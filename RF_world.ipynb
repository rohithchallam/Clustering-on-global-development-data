{
 "cells": [
  {
   "cell_type": "code",
   "execution_count": 1,
   "id": "858e4e2a",
   "metadata": {
    "ExecuteTime": {
     "end_time": "2022-12-23T13:40:10.634281Z",
     "start_time": "2022-12-23T13:40:05.771909Z"
    }
   },
   "outputs": [],
   "source": [
    "import pandas as pd   \n",
    "import numpy as np\n",
    "import matplotlib.pyplot as plt\n",
    "import seaborn as sns \n",
    "from sklearn.ensemble import RandomForestClassifier\n",
    "pd.set_option('display.max_rows',None)\n",
    "pd.set_option('display.max_columns',None)\n",
    "from pickle import dump"
   ]
  },
  {
   "cell_type": "code",
   "execution_count": 2,
   "id": "61999a22",
   "metadata": {
    "ExecuteTime": {
     "end_time": "2022-12-23T13:40:10.720180Z",
     "start_time": "2022-12-23T13:40:10.634281Z"
    }
   },
   "outputs": [
    {
     "data": {
      "text/html": [
       "<div>\n",
       "<style scoped>\n",
       "    .dataframe tbody tr th:only-of-type {\n",
       "        vertical-align: middle;\n",
       "    }\n",
       "\n",
       "    .dataframe tbody tr th {\n",
       "        vertical-align: top;\n",
       "    }\n",
       "\n",
       "    .dataframe thead th {\n",
       "        text-align: right;\n",
       "    }\n",
       "</style>\n",
       "<table border=\"1\" class=\"dataframe\">\n",
       "  <thead>\n",
       "    <tr style=\"text-align: right;\">\n",
       "      <th></th>\n",
       "      <th>Birth Rate</th>\n",
       "      <th>Business Tax Rate</th>\n",
       "      <th>log10_CO2 Emissions</th>\n",
       "      <th>Days to Start Business</th>\n",
       "      <th>Ease of Business</th>\n",
       "      <th>log10_Energy Usage</th>\n",
       "      <th>log10_GDP</th>\n",
       "      <th>Health Exp % GDP</th>\n",
       "      <th>log10_Health Exp/Capita</th>\n",
       "      <th>Hours to do Tax</th>\n",
       "      <th>Infant Mortality Rate</th>\n",
       "      <th>Internet Usage</th>\n",
       "      <th>Lending Interest</th>\n",
       "      <th>Life Expectancy Female</th>\n",
       "      <th>Life Expectancy Male</th>\n",
       "      <th>Mobile Phone Usage</th>\n",
       "      <th>log10_Population Total</th>\n",
       "      <th>Population Urban</th>\n",
       "      <th>log10_Tourism Inbound</th>\n",
       "      <th>log10_Tourism Outbound</th>\n",
       "      <th>ISO Code</th>\n",
       "      <th>cluster_label</th>\n",
       "    </tr>\n",
       "    <tr>\n",
       "      <th>Country</th>\n",
       "      <th></th>\n",
       "      <th></th>\n",
       "      <th></th>\n",
       "      <th></th>\n",
       "      <th></th>\n",
       "      <th></th>\n",
       "      <th></th>\n",
       "      <th></th>\n",
       "      <th></th>\n",
       "      <th></th>\n",
       "      <th></th>\n",
       "      <th></th>\n",
       "      <th></th>\n",
       "      <th></th>\n",
       "      <th></th>\n",
       "      <th></th>\n",
       "      <th></th>\n",
       "      <th></th>\n",
       "      <th></th>\n",
       "      <th></th>\n",
       "      <th></th>\n",
       "      <th></th>\n",
       "    </tr>\n",
       "  </thead>\n",
       "  <tbody>\n",
       "    <tr>\n",
       "      <th>Afghanistan</th>\n",
       "      <td>0.041187</td>\n",
       "      <td>37.790852</td>\n",
       "      <td>3.448751</td>\n",
       "      <td>10.615147</td>\n",
       "      <td>173.820524</td>\n",
       "      <td>3.583827</td>\n",
       "      <td>9.999324</td>\n",
       "      <td>0.089890</td>\n",
       "      <td>1.498809</td>\n",
       "      <td>280.468712</td>\n",
       "      <td>0.079667</td>\n",
       "      <td>0.024170</td>\n",
       "      <td>0.178447</td>\n",
       "      <td>59.560000</td>\n",
       "      <td>57.093333</td>\n",
       "      <td>0.317163</td>\n",
       "      <td>7.423713</td>\n",
       "      <td>0.238467</td>\n",
       "      <td>7.904058</td>\n",
       "      <td>7.953794</td>\n",
       "      <td>AFG</td>\n",
       "      <td>1</td>\n",
       "    </tr>\n",
       "    <tr>\n",
       "      <th>Albania</th>\n",
       "      <td>0.013827</td>\n",
       "      <td>41.728826</td>\n",
       "      <td>3.817068</td>\n",
       "      <td>20.217653</td>\n",
       "      <td>125.172350</td>\n",
       "      <td>3.418761</td>\n",
       "      <td>9.992813</td>\n",
       "      <td>0.060867</td>\n",
       "      <td>2.270471</td>\n",
       "      <td>363.236058</td>\n",
       "      <td>0.016507</td>\n",
       "      <td>0.269333</td>\n",
       "      <td>0.131067</td>\n",
       "      <td>79.626667</td>\n",
       "      <td>73.400000</td>\n",
       "      <td>0.700000</td>\n",
       "      <td>6.465061</td>\n",
       "      <td>0.495613</td>\n",
       "      <td>9.104825</td>\n",
       "      <td>9.042931</td>\n",
       "      <td>ALB</td>\n",
       "      <td>3</td>\n",
       "    </tr>\n",
       "    <tr>\n",
       "      <th>Algeria</th>\n",
       "      <td>0.022987</td>\n",
       "      <td>47.810756</td>\n",
       "      <td>5.041422</td>\n",
       "      <td>25.228467</td>\n",
       "      <td>141.974156</td>\n",
       "      <td>4.560178</td>\n",
       "      <td>11.116484</td>\n",
       "      <td>0.039893</td>\n",
       "      <td>2.162147</td>\n",
       "      <td>444.727870</td>\n",
       "      <td>0.026107</td>\n",
       "      <td>0.092000</td>\n",
       "      <td>0.080960</td>\n",
       "      <td>71.840000</td>\n",
       "      <td>68.626667</td>\n",
       "      <td>0.656000</td>\n",
       "      <td>7.551359</td>\n",
       "      <td>0.657200</td>\n",
       "      <td>8.464706</td>\n",
       "      <td>8.692669</td>\n",
       "      <td>DZA</td>\n",
       "      <td>3</td>\n",
       "    </tr>\n",
       "    <tr>\n",
       "      <th>American Samoa</th>\n",
       "      <td>0.019530</td>\n",
       "      <td>36.098327</td>\n",
       "      <td>2.615035</td>\n",
       "      <td>17.000000</td>\n",
       "      <td>91.116532</td>\n",
       "      <td>1.486228</td>\n",
       "      <td>9.082155</td>\n",
       "      <td>0.084468</td>\n",
       "      <td>3.093679</td>\n",
       "      <td>128.000000</td>\n",
       "      <td>0.009431</td>\n",
       "      <td>0.524070</td>\n",
       "      <td>0.096368</td>\n",
       "      <td>73.710564</td>\n",
       "      <td>68.971383</td>\n",
       "      <td>0.129988</td>\n",
       "      <td>4.756518</td>\n",
       "      <td>0.878400</td>\n",
       "      <td>8.356501</td>\n",
       "      <td>7.794127</td>\n",
       "      <td>ASM</td>\n",
       "      <td>2</td>\n",
       "    </tr>\n",
       "    <tr>\n",
       "      <th>Andorra</th>\n",
       "      <td>0.010333</td>\n",
       "      <td>39.574833</td>\n",
       "      <td>2.726592</td>\n",
       "      <td>23.195551</td>\n",
       "      <td>73.849854</td>\n",
       "      <td>3.223342</td>\n",
       "      <td>9.498402</td>\n",
       "      <td>0.065440</td>\n",
       "      <td>3.416719</td>\n",
       "      <td>90.462126</td>\n",
       "      <td>0.002733</td>\n",
       "      <td>0.613925</td>\n",
       "      <td>0.069013</td>\n",
       "      <td>79.871419</td>\n",
       "      <td>74.308758</td>\n",
       "      <td>0.760000</td>\n",
       "      <td>4.893950</td>\n",
       "      <td>0.889933</td>\n",
       "      <td>8.770406</td>\n",
       "      <td>8.381555</td>\n",
       "      <td>AND</td>\n",
       "      <td>2</td>\n",
       "    </tr>\n",
       "  </tbody>\n",
       "</table>\n",
       "</div>"
      ],
      "text/plain": [
       "                Birth Rate  Business Tax Rate  log10_CO2 Emissions  \\\n",
       "Country                                                              \n",
       "Afghanistan       0.041187          37.790852             3.448751   \n",
       "Albania           0.013827          41.728826             3.817068   \n",
       "Algeria           0.022987          47.810756             5.041422   \n",
       "American Samoa    0.019530          36.098327             2.615035   \n",
       "Andorra           0.010333          39.574833             2.726592   \n",
       "\n",
       "                Days to Start Business  Ease of Business  log10_Energy Usage  \\\n",
       "Country                                                                        \n",
       "Afghanistan                  10.615147        173.820524            3.583827   \n",
       "Albania                      20.217653        125.172350            3.418761   \n",
       "Algeria                      25.228467        141.974156            4.560178   \n",
       "American Samoa               17.000000         91.116532            1.486228   \n",
       "Andorra                      23.195551         73.849854            3.223342   \n",
       "\n",
       "                log10_GDP  Health Exp % GDP  log10_Health Exp/Capita  \\\n",
       "Country                                                                \n",
       "Afghanistan      9.999324          0.089890                 1.498809   \n",
       "Albania          9.992813          0.060867                 2.270471   \n",
       "Algeria         11.116484          0.039893                 2.162147   \n",
       "American Samoa   9.082155          0.084468                 3.093679   \n",
       "Andorra          9.498402          0.065440                 3.416719   \n",
       "\n",
       "                Hours to do Tax  Infant Mortality Rate  Internet Usage  \\\n",
       "Country                                                                  \n",
       "Afghanistan          280.468712               0.079667        0.024170   \n",
       "Albania              363.236058               0.016507        0.269333   \n",
       "Algeria              444.727870               0.026107        0.092000   \n",
       "American Samoa       128.000000               0.009431        0.524070   \n",
       "Andorra               90.462126               0.002733        0.613925   \n",
       "\n",
       "                Lending Interest  Life Expectancy Female  \\\n",
       "Country                                                    \n",
       "Afghanistan             0.178447               59.560000   \n",
       "Albania                 0.131067               79.626667   \n",
       "Algeria                 0.080960               71.840000   \n",
       "American Samoa          0.096368               73.710564   \n",
       "Andorra                 0.069013               79.871419   \n",
       "\n",
       "                Life Expectancy Male  Mobile Phone Usage  \\\n",
       "Country                                                    \n",
       "Afghanistan                57.093333            0.317163   \n",
       "Albania                    73.400000            0.700000   \n",
       "Algeria                    68.626667            0.656000   \n",
       "American Samoa             68.971383            0.129988   \n",
       "Andorra                    74.308758            0.760000   \n",
       "\n",
       "                log10_Population Total  Population Urban  \\\n",
       "Country                                                    \n",
       "Afghanistan                   7.423713          0.238467   \n",
       "Albania                       6.465061          0.495613   \n",
       "Algeria                       7.551359          0.657200   \n",
       "American Samoa                4.756518          0.878400   \n",
       "Andorra                       4.893950          0.889933   \n",
       "\n",
       "                log10_Tourism Inbound  log10_Tourism Outbound ISO Code  \\\n",
       "Country                                                                  \n",
       "Afghanistan                  7.904058                7.953794      AFG   \n",
       "Albania                      9.104825                9.042931      ALB   \n",
       "Algeria                      8.464706                8.692669      DZA   \n",
       "American Samoa               8.356501                7.794127      ASM   \n",
       "Andorra                      8.770406                8.381555      AND   \n",
       "\n",
       "                cluster_label  \n",
       "Country                        \n",
       "Afghanistan                 1  \n",
       "Albania                     3  \n",
       "Algeria                     3  \n",
       "American Samoa              2  \n",
       "Andorra                     2  "
      ]
     },
     "execution_count": 2,
     "metadata": {},
     "output_type": "execute_result"
    }
   ],
   "source": [
    "world_df = pd.read_csv('Countries.csv',index_col=0)\n",
    "world_df.head()"
   ]
  },
  {
   "cell_type": "code",
   "execution_count": 3,
   "id": "5e01f4aa",
   "metadata": {
    "ExecuteTime": {
     "end_time": "2022-12-23T13:40:10.760973Z",
     "start_time": "2022-12-23T13:40:10.722184Z"
    }
   },
   "outputs": [],
   "source": [
    "x = world_df.iloc[:,:-2].round(3)"
   ]
  },
  {
   "cell_type": "code",
   "execution_count": 4,
   "id": "4a1dfaad",
   "metadata": {
    "ExecuteTime": {
     "end_time": "2022-12-23T13:40:10.788169Z",
     "start_time": "2022-12-23T13:40:10.763774Z"
    }
   },
   "outputs": [
    {
     "data": {
      "text/plain": [
       "Index(['Birth Rate', 'Business Tax Rate', 'log10_CO2 Emissions',\n",
       "       'Days to Start Business', 'Ease of Business', 'log10_Energy Usage',\n",
       "       'log10_GDP', 'Health Exp % GDP', 'log10_Health Exp/Capita',\n",
       "       'Hours to do Tax', 'Infant Mortality Rate', 'Internet Usage',\n",
       "       'Lending Interest', 'Life Expectancy Female', 'Life Expectancy Male',\n",
       "       'Mobile Phone Usage', 'log10_Population Total', 'Population Urban',\n",
       "       'log10_Tourism Inbound', 'log10_Tourism Outbound'],\n",
       "      dtype='object')"
      ]
     },
     "execution_count": 4,
     "metadata": {},
     "output_type": "execute_result"
    }
   ],
   "source": [
    "x.keys()"
   ]
  },
  {
   "cell_type": "code",
   "execution_count": 5,
   "id": "a4a27d1b",
   "metadata": {
    "ExecuteTime": {
     "end_time": "2022-12-23T13:40:10.804079Z",
     "start_time": "2022-12-23T13:40:10.790568Z"
    }
   },
   "outputs": [],
   "source": [
    "y = world_df['cluster_label']"
   ]
  },
  {
   "cell_type": "code",
   "execution_count": 6,
   "id": "b5920f25",
   "metadata": {
    "ExecuteTime": {
     "end_time": "2022-12-23T13:40:10.820186Z",
     "start_time": "2022-12-23T13:40:10.806672Z"
    }
   },
   "outputs": [],
   "source": [
    "RF = RandomForestClassifier(random_state=10,max_features=None)"
   ]
  },
  {
   "cell_type": "code",
   "execution_count": 7,
   "id": "b067d0b7",
   "metadata": {
    "ExecuteTime": {
     "end_time": "2022-12-23T13:40:11.183934Z",
     "start_time": "2022-12-23T13:40:10.822147Z"
    }
   },
   "outputs": [],
   "source": [
    "model = RF.fit(x,y)"
   ]
  },
  {
   "cell_type": "code",
   "execution_count": 8,
   "id": "ed8a9907",
   "metadata": {
    "ExecuteTime": {
     "end_time": "2022-12-23T13:40:11.207722Z",
     "start_time": "2022-12-23T13:40:11.183934Z"
    }
   },
   "outputs": [],
   "source": [
    "dump(model,open('Random_forest.sav', 'wb'))"
   ]
  },
  {
   "cell_type": "code",
   "execution_count": 9,
   "id": "961a2538",
   "metadata": {
    "ExecuteTime": {
     "end_time": "2022-12-23T13:40:11.223230Z",
     "start_time": "2022-12-23T13:40:11.207722Z"
    }
   },
   "outputs": [
    {
     "data": {
      "text/plain": [
       "'1.0.2'"
      ]
     },
     "execution_count": 9,
     "metadata": {},
     "output_type": "execute_result"
    }
   ],
   "source": [
    "import sklearn\n",
    "sklearn.__version__"
   ]
  }
 ],
 "metadata": {
  "kernelspec": {
   "display_name": "Python 3 (ipykernel)",
   "language": "python",
   "name": "python3"
  },
  "language_info": {
   "codemirror_mode": {
    "name": "ipython",
    "version": 3
   },
   "file_extension": ".py",
   "mimetype": "text/x-python",
   "name": "python",
   "nbconvert_exporter": "python",
   "pygments_lexer": "ipython3",
   "version": "3.9.13"
  }
 },
 "nbformat": 4,
 "nbformat_minor": 5
}
